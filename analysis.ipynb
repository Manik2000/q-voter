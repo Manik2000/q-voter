{
 "cells": [
  {
   "cell_type": "markdown",
   "id": "e684d1b4-f5eb-4518-a9db-992c04bc5b63",
   "metadata": {},
   "source": [
    "# Q-voter model analysis"
   ]
  },
  {
   "cell_type": "code",
   "execution_count": 17,
   "id": "ff37a297-eca1-4e93-89be-c34c0f635cc4",
   "metadata": {},
   "outputs": [],
   "source": [
    "import matplotlib.pyplot as plt\n",
    "import numpy as np\n",
    "\n",
    "from scripts.lattices import (chessboard, circle, diagonal_stripes, random_lattice,\n",
    "                      ring, solid, two_vertical_stripes)\n",
    "from scripts.simulation import anti_conformity, independence"
   ]
  },
  {
   "cell_type": "code",
   "execution_count": 18,
   "id": "8a5ba5d1-bbf7-456b-8c7d-ea1f2a8c9ea6",
   "metadata": {},
   "outputs": [],
   "source": [
    "lattices = [chessboard, circle, diagonal_stripes, random_lattice, ring, solid, two_vertical_stripes]\n",
    "lattices_names = ['chessboard', 'circle', 'diagonal_stripes', 'random_lattice', 'ring', 'solid', 'two_vertical_stripes']"
   ]
  },
  {
   "cell_type": "markdown",
   "id": "3e54799b-2e8e-4997-b510-4f2257ad509f",
   "metadata": {},
   "source": [
    "## Initial lattices"
   ]
  },
  {
   "cell_type": "code",
   "execution_count": 19,
   "id": "966cf9c9-65d1-42eb-b000-bf343703d659",
   "metadata": {},
   "outputs": [
    {
     "data": {
      "image/png": "[encoded data removed]",
      "text/plain": [
       "<Figure size 640x480 with 1 Axes>"
      ]
     },
     "metadata": {},
     "output_type": "display_data"
    }
   ],
   "source": [
    "plt.imshow(circle(10), cmap=\"rainbow\")\n",
    "plt.show()"
   ]
  },
  {
   "cell_type": "code",
   "execution_count": 16,
   "id": "4a00f3de-bfef-44d6-9b91-91bfb013391b",
   "metadata": {},
   "outputs": [],
   "source": [
    "# fig, ax = plt.subplots(4, 2, figsize=(14, 20))\n",
    "\n",
    "# plt.show()"
   ]
  },
  {
   "cell_type": "markdown",
   "id": "d8bd6f7a-d954-409f-a505-51d6b5d351fc",
   "metadata": {},
   "source": [
    "## Some results"
   ]
  },
  {
   "cell_type": "code",
   "execution_count": null,
   "id": "4cda1c14-183e-42cd-a7d8-ea1def107939",
   "metadata": {},
   "outputs": [],
   "source": []
  },
  {
   "cell_type": "code",
   "execution_count": null,
   "id": "68a3bd3b-8d80-4461-b72d-13fbcd42938d",
   "metadata": {},
   "outputs": [],
   "source": []
  }
 ],
 "metadata": {
  "kernelspec": {
   "display_name": "Python 3 (ipykernel)",
   "language": "python",
   "name": "python3"
  },
  "language_info": {
   "codemirror_mode": {
    "name": "ipython",
    "version": 3
   },
   "file_extension": ".py",
   "mimetype": "text/x-python",
   "name": "python",
   "nbconvert_exporter": "python",
   "pygments_lexer": "ipython3",
   "version": "3.11.2"
  }
 },
 "nbformat": 4,
 "nbformat_minor": 5
}
